{
 "cells": [
  {
   "cell_type": "code",
   "execution_count": 9,
   "id": "5747a9d3-557e-4371-9dc3-2a6b376d3748",
   "metadata": {},
   "outputs": [
    {
     "name": "stdout",
     "output_type": "stream",
     "text": [
      "Excel file downloaded successfully and saved as natural_gas_prices.xlsx.\n",
      "Data successfully written to henry_hub_prices.csv.\n"
     ]
    }
   ],
   "source": [
    "import pandas as pd\n",
    "import requests\n",
    "from datetime import datetime\n",
    "\n",
    "def download_excel(url, filename):\n",
    "    response = requests.get(url)\n",
    "    if response.status_code == 200:\n",
    "        with open(filename, 'wb') as file:\n",
    "            file.write(response.content)\n",
    "        print(f\"Excel file downloaded successfully and saved as {filename}.\")\n",
    "    else:\n",
    "        print(\"Failed to download the Excel file.\")\n",
    "\n",
    "def process_excel_to_csv(excel_file, csv_file):\n",
    "    try:\n",
    "        # Read the Excel file\n",
    "        df = pd.read_excel(excel_file, sheet_name='Data 1', skiprows=2)\n",
    "        \n",
    "        # Clean the data: renaming columns\n",
    "        df.columns = ['Date', 'Price']\n",
    "        \n",
    "        # Normalize the date format\n",
    "        df['Date'] = pd.to_datetime(df['Date'])\n",
    "        \n",
    "        # Drop any rows with missing data\n",
    "        df.dropna(inplace=True)\n",
    "        \n",
    "        # Save the dataframe to a CSV file\n",
    "        df.to_csv(csv_file, index=False)\n",
    "        print(f\"Data successfully written to {csv_file}.\")\n",
    "    except Exception as e:\n",
    "        print(f\"An error occurred: {e}\")\n",
    "\n",
    "def main():\n",
    "    url = \"https://www.eia.gov/dnav/ng/hist_xls/RNGWHHDm.xls\"\n",
    "    excel_file = 'natural_gas_prices.xlsx'\n",
    "    csv_file = 'henry_hub_prices.csv'\n",
    "    \n",
    "    download_excel(url, excel_file)\n",
    "    process_excel_to_csv(excel_file, csv_file)\n",
    "\n",
    "if __name__ == \"__main__\":\n",
    "    main()\n"
   ]
  }
 ],
 "metadata": {
  "kernelspec": {
   "display_name": "Python 3 (ipykernel)",
   "language": "python",
   "name": "python3"
  },
  "language_info": {
   "codemirror_mode": {
    "name": "ipython",
    "version": 3
   },
   "file_extension": ".py",
   "mimetype": "text/x-python",
   "name": "python",
   "nbconvert_exporter": "python",
   "pygments_lexer": "ipython3",
   "version": "3.12.2"
  }
 },
 "nbformat": 4,
 "nbformat_minor": 5
}
